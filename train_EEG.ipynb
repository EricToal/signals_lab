{
 "cells": [
  {
   "cell_type": "code",
   "execution_count": 2,
   "metadata": {
    "scrolled": true
   },
   "outputs": [
    {
     "name": "stderr",
     "output_type": "stream",
     "text": [
      "<frozen importlib._bootstrap>:219: FutureWarning: mne.io.pick.pick_types is deprecated will be removed in 1.6, use documented public API instead. If no appropriate public API exists, please open an issue on GitHub.\n",
      "<frozen importlib._bootstrap>:219: FutureWarning: mne.io.pick.pick_channels_regexp is deprecated will be removed in 1.6, use documented public API instead. If no appropriate public API exists, please open an issue on GitHub.\n",
      "<frozen importlib._bootstrap>:219: FutureWarning: mne.io.pick.channel_type is deprecated will be removed in 1.6, use documented public API instead. If no appropriate public API exists, please open an issue on GitHub.\n",
      "2025-01-16 14:21:31.444970: I tensorflow/tsl/cuda/cudart_stub.cc:28] Could not find cuda drivers on your machine, GPU will not be used.\n",
      "2025-01-16 14:21:31.474133: I tensorflow/core/platform/cpu_feature_guard.cc:182] This TensorFlow binary is optimized to use available CPU instructions in performance-critical operations.\n",
      "To enable the following instructions: AVX2 FMA, in other operations, rebuild TensorFlow with the appropriate compiler flags.\n",
      "2025-01-16 14:21:32.008603: W tensorflow/compiler/tf2tensorrt/utils/py_utils.cc:38] TF-TRT Warning: Could not find TensorRT\n"
     ]
    },
    {
     "name": "stdout",
     "output_type": "stream",
     "text": [
      "To use the get_shape_from_baseconcar, InputShapeSetterEEG, BraindecodeDatasetLoaderyou need to install `braindecode`.`pip install braindecode` or Please refer to `https://braindecode.org`.\n"
     ]
    },
    {
     "name": "stderr",
     "output_type": "stream",
     "text": [
      "/opt/pythonenvs/class_fall2023/lib/python3.8/site-packages/moabb/pipelines/__init__.py:26: ModuleNotFoundError: Tensorflow is not installed. You won't be able to use these MOABB pipelines if you attempt to do so.\n",
      "  warn(\n"
     ]
    }
   ],
   "source": [
    "from src.combined_processor import CombinedProcessor\n",
    "from src.eeg_config import EEGConfig\n",
    "from run.train_VQVAE import train_VQVAE\n",
    "from src.utils import *\n",
    "\n",
    "from torch.utils.data import DataLoader, random_split\n",
    "from moabb.datasets import Lee2019_SSVEP\n",
    "import lightning.pytorch as pl\n",
    "import pandas as pd"
   ]
  },
  {
   "cell_type": "code",
   "execution_count": 4,
   "metadata": {},
   "outputs": [
    {
     "name": "stderr",
     "output_type": "stream",
     "text": [
      "Downloading data from 'ftp://parrot.genomics.cn/gigadb/pub/10.5524/100001_101000/100542/session1/s1/sess01_subj01_EEG_SSVEP.mat' to file '/home/eric/mne_data/MNE-lee2019-ssvep-data/gigadb/pub/10.5524/100001_101000/100542/session1/s1/sess01_subj01_EEG_SSVEP.mat'.\n"
     ]
    },
    {
     "ename": "TimeoutError",
     "evalue": "[Errno 110] Connection timed out",
     "output_type": "error",
     "traceback": [
      "\u001b[0;31m---------------------------------------------------------------------------\u001b[0m",
      "\u001b[0;31mTimeoutError\u001b[0m                              Traceback (most recent call last)",
      "Cell \u001b[0;32mIn[4], line 11\u001b[0m\n\u001b[1;32m      1\u001b[0m lee_config \u001b[38;5;241m=\u001b[39m EEGConfig(\n\u001b[1;32m      2\u001b[0m     dataset\u001b[38;5;241m=\u001b[39mLee2019_SSVEP(),\n\u001b[1;32m      3\u001b[0m     num_channels\u001b[38;5;241m=\u001b[39m\u001b[38;5;241m62\u001b[39m,\n\u001b[0;32m   (...)\u001b[0m\n\u001b[1;32m      8\u001b[0m     channel_range\u001b[38;5;241m=\u001b[39m(\u001b[38;5;124m\"\u001b[39m\u001b[38;5;124mFp1\u001b[39m\u001b[38;5;124m\"\u001b[39m, \u001b[38;5;124m\"\u001b[39m\u001b[38;5;124mPO4\u001b[39m\u001b[38;5;124m\"\u001b[39m),\n\u001b[1;32m      9\u001b[0m )\n\u001b[0;32m---> 11\u001b[0m combined_processor \u001b[38;5;241m=\u001b[39m \u001b[43mCombinedProcessor\u001b[49m\u001b[43m(\u001b[49m\u001b[43mconfigs\u001b[49m\u001b[38;5;241;43m=\u001b[39;49m\u001b[43m[\u001b[49m\u001b[43mlee_config\u001b[49m\u001b[43m]\u001b[49m\u001b[43m)\u001b[49m\n",
      "File \u001b[0;32m~/Dev/git/signals_lab/src/combined_processor.py:29\u001b[0m, in \u001b[0;36mCombinedProcessor.__init__\u001b[0;34m(self, configs, debug)\u001b[0m\n\u001b[1;32m     26\u001b[0m     logging\u001b[38;5;241m.\u001b[39mbasicConfig(level\u001b[38;5;241m=\u001b[39mlogging\u001b[38;5;241m.\u001b[39mDEBUG)\n\u001b[1;32m     27\u001b[0m \u001b[38;5;28mself\u001b[39m\u001b[38;5;241m.\u001b[39mlogger\u001b[38;5;241m.\u001b[39mdebug(\u001b[38;5;124m'\u001b[39m\u001b[38;5;124mCreating CombinedProcessor and populating fields.\u001b[39m\u001b[38;5;124m'\u001b[39m)\n\u001b[0;32m---> 29\u001b[0m \u001b[38;5;28mself\u001b[39m\u001b[38;5;241m.\u001b[39mprocessors \u001b[38;5;241m=\u001b[39m [EEGProcessor(config) \u001b[38;5;28;01mfor\u001b[39;00m config \u001b[38;5;129;01min\u001b[39;00m configs]\n\u001b[1;32m     30\u001b[0m \u001b[38;5;28mself\u001b[39m\u001b[38;5;241m.\u001b[39msegment_iterator \u001b[38;5;241m=\u001b[39m \u001b[38;5;28mself\u001b[39m\u001b[38;5;241m.\u001b[39m_create_segment_iterator()\n\u001b[1;32m     31\u001b[0m \u001b[38;5;28mself\u001b[39m\u001b[38;5;241m.\u001b[39mdir \u001b[38;5;241m=\u001b[39m \u001b[38;5;124m'\u001b[39m\u001b[38;5;124m./\u001b[39m\u001b[38;5;124m'\u001b[39m\n",
      "File \u001b[0;32m~/Dev/git/signals_lab/src/combined_processor.py:29\u001b[0m, in \u001b[0;36m<listcomp>\u001b[0;34m(.0)\u001b[0m\n\u001b[1;32m     26\u001b[0m     logging\u001b[38;5;241m.\u001b[39mbasicConfig(level\u001b[38;5;241m=\u001b[39mlogging\u001b[38;5;241m.\u001b[39mDEBUG)\n\u001b[1;32m     27\u001b[0m \u001b[38;5;28mself\u001b[39m\u001b[38;5;241m.\u001b[39mlogger\u001b[38;5;241m.\u001b[39mdebug(\u001b[38;5;124m'\u001b[39m\u001b[38;5;124mCreating CombinedProcessor and populating fields.\u001b[39m\u001b[38;5;124m'\u001b[39m)\n\u001b[0;32m---> 29\u001b[0m \u001b[38;5;28mself\u001b[39m\u001b[38;5;241m.\u001b[39mprocessors \u001b[38;5;241m=\u001b[39m [\u001b[43mEEGProcessor\u001b[49m\u001b[43m(\u001b[49m\u001b[43mconfig\u001b[49m\u001b[43m)\u001b[49m \u001b[38;5;28;01mfor\u001b[39;00m config \u001b[38;5;129;01min\u001b[39;00m configs]\n\u001b[1;32m     30\u001b[0m \u001b[38;5;28mself\u001b[39m\u001b[38;5;241m.\u001b[39msegment_iterator \u001b[38;5;241m=\u001b[39m \u001b[38;5;28mself\u001b[39m\u001b[38;5;241m.\u001b[39m_create_segment_iterator()\n\u001b[1;32m     31\u001b[0m \u001b[38;5;28mself\u001b[39m\u001b[38;5;241m.\u001b[39mdir \u001b[38;5;241m=\u001b[39m \u001b[38;5;124m'\u001b[39m\u001b[38;5;124m./\u001b[39m\u001b[38;5;124m'\u001b[39m\n",
      "File \u001b[0;32m~/Dev/git/signals_lab/src/eeg_processor.py:24\u001b[0m, in \u001b[0;36mEEGProcessor.__init__\u001b[0;34m(self, config)\u001b[0m\n\u001b[1;32m     22\u001b[0m \u001b[38;5;28mself\u001b[39m\u001b[38;5;241m.\u001b[39mlogger \u001b[38;5;241m=\u001b[39m logging\u001b[38;5;241m.\u001b[39mgetLogger(\u001b[38;5;18m__name__\u001b[39m)\n\u001b[1;32m     23\u001b[0m \u001b[38;5;28mself\u001b[39m\u001b[38;5;241m.\u001b[39mconfig \u001b[38;5;241m=\u001b[39m config\n\u001b[0;32m---> 24\u001b[0m \u001b[38;5;28mself\u001b[39m\u001b[38;5;241m.\u001b[39mlength \u001b[38;5;241m=\u001b[39m \u001b[38;5;28;43mself\u001b[39;49m\u001b[38;5;241;43m.\u001b[39;49m\u001b[43mgen_length\u001b[49m\u001b[43m(\u001b[49m\u001b[38;5;28;43mself\u001b[39;49m\u001b[38;5;241;43m.\u001b[39;49m\u001b[43mprocessed_data_gen\u001b[49m\u001b[43m(\u001b[49m\u001b[43m)\u001b[49m\u001b[43m)\u001b[49m\n",
      "File \u001b[0;32m~/Dev/git/signals_lab/src/eeg_processor.py:59\u001b[0m, in \u001b[0;36mEEGProcessor.gen_length\u001b[0;34m(self, gen)\u001b[0m\n\u001b[1;32m     57\u001b[0m \u001b[38;5;28mself\u001b[39m\u001b[38;5;241m.\u001b[39mlogger\u001b[38;5;241m.\u001b[39mdebug(\u001b[38;5;124m'\u001b[39m\u001b[38;5;124mCalculating generator length.\u001b[39m\u001b[38;5;124m'\u001b[39m)\n\u001b[1;32m     58\u001b[0m gen, gen_copy \u001b[38;5;241m=\u001b[39m tee(gen)\n\u001b[0;32m---> 59\u001b[0m length \u001b[38;5;241m=\u001b[39m \u001b[38;5;28;43msum\u001b[39;49m\u001b[43m(\u001b[49m\u001b[38;5;241;43m1\u001b[39;49m\u001b[43m \u001b[49m\u001b[38;5;28;43;01mfor\u001b[39;49;00m\u001b[43m \u001b[49m\u001b[43m_\u001b[49m\u001b[43m \u001b[49m\u001b[38;5;129;43;01min\u001b[39;49;00m\u001b[43m \u001b[49m\u001b[43mgen_copy\u001b[49m\u001b[43m)\u001b[49m\n\u001b[1;32m     60\u001b[0m \u001b[38;5;28;01mreturn\u001b[39;00m length\n",
      "File \u001b[0;32m~/Dev/git/signals_lab/src/eeg_processor.py:59\u001b[0m, in \u001b[0;36m<genexpr>\u001b[0;34m(.0)\u001b[0m\n\u001b[1;32m     57\u001b[0m \u001b[38;5;28mself\u001b[39m\u001b[38;5;241m.\u001b[39mlogger\u001b[38;5;241m.\u001b[39mdebug(\u001b[38;5;124m'\u001b[39m\u001b[38;5;124mCalculating generator length.\u001b[39m\u001b[38;5;124m'\u001b[39m)\n\u001b[1;32m     58\u001b[0m gen, gen_copy \u001b[38;5;241m=\u001b[39m tee(gen)\n\u001b[0;32m---> 59\u001b[0m length \u001b[38;5;241m=\u001b[39m \u001b[38;5;28msum\u001b[39m(\u001b[38;5;241m1\u001b[39m \u001b[38;5;28;01mfor\u001b[39;00m _ \u001b[38;5;129;01min\u001b[39;00m gen_copy)\n\u001b[1;32m     60\u001b[0m \u001b[38;5;28;01mreturn\u001b[39;00m length\n",
      "File \u001b[0;32m~/Dev/git/signals_lab/src/eeg_processor.py:32\u001b[0m, in \u001b[0;36mEEGProcessor.processed_data_gen\u001b[0;34m(self)\u001b[0m\n\u001b[1;32m     26\u001b[0m \u001b[38;5;28;01mdef\u001b[39;00m \u001b[38;5;21mprocessed_data_gen\u001b[39m(\u001b[38;5;28mself\u001b[39m):\n\u001b[1;32m     27\u001b[0m \u001b[38;5;250m    \u001b[39m\u001b[38;5;124;03m'''\u001b[39;00m\n\u001b[1;32m     28\u001b[0m \u001b[38;5;124;03m    This method is the main entry point for processing EEG data.\u001b[39;00m\n\u001b[1;32m     29\u001b[0m \u001b[38;5;124;03m    \u001b[39;00m\n\u001b[1;32m     30\u001b[0m \u001b[38;5;124;03m    Returns: A generator that yields processed EEG data.\u001b[39;00m\n\u001b[1;32m     31\u001b[0m \u001b[38;5;124;03m    '''\u001b[39;00m\n\u001b[0;32m---> 32\u001b[0m     \u001b[38;5;28;01mfor\u001b[39;00m subject_id, sessions \u001b[38;5;129;01min\u001b[39;00m \u001b[38;5;28;43mnext\u001b[39;49m\u001b[43m(\u001b[49m\u001b[38;5;28;43mself\u001b[39;49m\u001b[38;5;241;43m.\u001b[39;49m\u001b[43m_subject_gen\u001b[49m\u001b[43m(\u001b[49m\u001b[43m)\u001b[49m\u001b[43m)\u001b[49m\u001b[38;5;241m.\u001b[39mitems():\n\u001b[1;32m     33\u001b[0m         \u001b[38;5;28mself\u001b[39m\u001b[38;5;241m.\u001b[39mlogger\u001b[38;5;241m.\u001b[39mdebug(\u001b[38;5;124mf\u001b[39m\u001b[38;5;124m'\u001b[39m\u001b[38;5;124mProcessing subject \u001b[39m\u001b[38;5;132;01m{\u001b[39;00msubject_id\u001b[38;5;132;01m}\u001b[39;00m\u001b[38;5;124m.\u001b[39m\u001b[38;5;124m'\u001b[39m)\n\u001b[1;32m     35\u001b[0m         \u001b[38;5;28;01mfor\u001b[39;00m session_id, runs \u001b[38;5;129;01min\u001b[39;00m sessions\u001b[38;5;241m.\u001b[39mitems():\n",
      "File \u001b[0;32m~/Dev/git/signals_lab/src/eeg_processor.py:64\u001b[0m, in \u001b[0;36mEEGProcessor._subject_gen\u001b[0;34m(self)\u001b[0m\n\u001b[1;32m     62\u001b[0m \u001b[38;5;28;01mdef\u001b[39;00m \u001b[38;5;21m_subject_gen\u001b[39m(\u001b[38;5;28mself\u001b[39m):\n\u001b[1;32m     63\u001b[0m     \u001b[38;5;28;01mfor\u001b[39;00m subject \u001b[38;5;129;01min\u001b[39;00m \u001b[38;5;28mself\u001b[39m\u001b[38;5;241m.\u001b[39mconfig\u001b[38;5;241m.\u001b[39mget_subject_range():\n\u001b[0;32m---> 64\u001b[0m         \u001b[38;5;28;01myield\u001b[39;00m \u001b[38;5;28;43mself\u001b[39;49m\u001b[38;5;241;43m.\u001b[39;49m\u001b[43mconfig\u001b[49m\u001b[38;5;241;43m.\u001b[39;49m\u001b[43mdataset\u001b[49m\u001b[38;5;241;43m.\u001b[39;49m\u001b[43mget_data\u001b[49m\u001b[43m(\u001b[49m\u001b[43msubjects\u001b[49m\u001b[38;5;241;43m=\u001b[39;49m\u001b[43m[\u001b[49m\u001b[43msubject\u001b[49m\u001b[43m]\u001b[49m\u001b[43m)\u001b[49m\n",
      "File \u001b[0;32m/opt/pythonenvs/class_fall2023/lib/python3.8/site-packages/moabb/datasets/base.py:342\u001b[0m, in \u001b[0;36mBaseDataset.get_data\u001b[0;34m(self, subjects, cache_config, process_pipeline)\u001b[0m\n\u001b[1;32m    340\u001b[0m     \u001b[38;5;28;01mif\u001b[39;00m subject \u001b[38;5;129;01mnot\u001b[39;00m \u001b[38;5;129;01min\u001b[39;00m \u001b[38;5;28mself\u001b[39m\u001b[38;5;241m.\u001b[39msubject_list:\n\u001b[1;32m    341\u001b[0m         \u001b[38;5;28;01mraise\u001b[39;00m \u001b[38;5;167;01mValueError\u001b[39;00m(\u001b[38;5;124m\"\u001b[39m\u001b[38;5;124mInvalid subject \u001b[39m\u001b[38;5;132;01m{:d}\u001b[39;00m\u001b[38;5;124m given\u001b[39m\u001b[38;5;124m\"\u001b[39m\u001b[38;5;241m.\u001b[39mformat(subject))\n\u001b[0;32m--> 342\u001b[0m     data[subject] \u001b[38;5;241m=\u001b[39m \u001b[38;5;28;43mself\u001b[39;49m\u001b[38;5;241;43m.\u001b[39;49m\u001b[43m_get_single_subject_data_using_cache\u001b[49m\u001b[43m(\u001b[49m\n\u001b[1;32m    343\u001b[0m \u001b[43m        \u001b[49m\u001b[43msubject\u001b[49m\u001b[43m,\u001b[49m\n\u001b[1;32m    344\u001b[0m \u001b[43m        \u001b[49m\u001b[43mcache_config\u001b[49m\u001b[43m,\u001b[49m\n\u001b[1;32m    345\u001b[0m \u001b[43m        \u001b[49m\u001b[43mprocess_pipeline\u001b[49m\u001b[43m,\u001b[49m\n\u001b[1;32m    346\u001b[0m \u001b[43m    \u001b[49m\u001b[43m)\u001b[49m\n\u001b[1;32m    347\u001b[0m check_subject_names(data)\n\u001b[1;32m    348\u001b[0m check_session_names(data)\n",
      "File \u001b[0;32m/opt/pythonenvs/class_fall2023/lib/python3.8/site-packages/moabb/datasets/base.py:436\u001b[0m, in \u001b[0;36mBaseDataset._get_single_subject_data_using_cache\u001b[0;34m(self, subject, cache_config, process_pipeline)\u001b[0m\n\u001b[1;32m    434\u001b[0m \u001b[38;5;66;03m# Load and eventually overwrite:\u001b[39;00m\n\u001b[1;32m    435\u001b[0m \u001b[38;5;28;01mif\u001b[39;00m \u001b[38;5;28mlen\u001b[39m(cached_steps) \u001b[38;5;241m==\u001b[39m \u001b[38;5;241m0\u001b[39m:  \u001b[38;5;66;03m# last option: we don't use cache\u001b[39;00m\n\u001b[0;32m--> 436\u001b[0m     sessions_data \u001b[38;5;241m=\u001b[39m \u001b[38;5;28;43mself\u001b[39;49m\u001b[38;5;241;43m.\u001b[39;49m\u001b[43m_get_single_subject_data\u001b[49m\u001b[43m(\u001b[49m\u001b[43msubject\u001b[49m\u001b[43m)\u001b[49m\n\u001b[1;32m    437\u001b[0m     \u001b[38;5;28;01massert\u001b[39;00m sessions_data \u001b[38;5;129;01mis\u001b[39;00m \u001b[38;5;129;01mnot\u001b[39;00m \u001b[38;5;28;01mNone\u001b[39;00m  \u001b[38;5;66;03m# should not happen\u001b[39;00m\n\u001b[1;32m    438\u001b[0m \u001b[38;5;28;01melse\u001b[39;00m:\n",
      "File \u001b[0;32m/opt/pythonenvs/class_fall2023/lib/python3.8/site-packages/moabb/datasets/Lee2019.py:168\u001b[0m, in \u001b[0;36mLee2019._get_single_subject_data\u001b[0;34m(self, subject)\u001b[0m\n\u001b[1;32m    165\u001b[0m \u001b[38;5;250m\u001b[39m\u001b[38;5;124;03m\"\"\"Return data for a single subejct.\"\"\"\u001b[39;00m\n\u001b[1;32m    167\u001b[0m sessions \u001b[38;5;241m=\u001b[39m {}\n\u001b[0;32m--> 168\u001b[0m file_path_list \u001b[38;5;241m=\u001b[39m \u001b[38;5;28;43mself\u001b[39;49m\u001b[38;5;241;43m.\u001b[39;49m\u001b[43mdata_path\u001b[49m\u001b[43m(\u001b[49m\u001b[43msubject\u001b[49m\u001b[43m)\u001b[49m\n\u001b[1;32m    170\u001b[0m \u001b[38;5;28;01mfor\u001b[39;00m session \u001b[38;5;129;01min\u001b[39;00m \u001b[38;5;28mself\u001b[39m\u001b[38;5;241m.\u001b[39msessions:\n\u001b[1;32m    171\u001b[0m     \u001b[38;5;28;01mif\u001b[39;00m \u001b[38;5;28mself\u001b[39m\u001b[38;5;241m.\u001b[39mtrain_run \u001b[38;5;129;01mor\u001b[39;00m \u001b[38;5;28mself\u001b[39m\u001b[38;5;241m.\u001b[39mtest_run:\n",
      "File \u001b[0;32m/opt/pythonenvs/class_fall2023/lib/python3.8/site-packages/moabb/datasets/Lee2019.py:213\u001b[0m, in \u001b[0;36mLee2019.data_path\u001b[0;34m(self, subject, path, force_update, update_path, verbose)\u001b[0m\n\u001b[1;32m    209\u001b[0m \u001b[38;5;28;01mfor\u001b[39;00m session \u001b[38;5;129;01min\u001b[39;00m \u001b[38;5;28mself\u001b[39m\u001b[38;5;241m.\u001b[39msessions:\n\u001b[1;32m    210\u001b[0m     url \u001b[38;5;241m=\u001b[39m \u001b[38;5;124m\"\u001b[39m\u001b[38;5;132;01m{0}\u001b[39;00m\u001b[38;5;124msession\u001b[39m\u001b[38;5;132;01m{1}\u001b[39;00m\u001b[38;5;124m/s\u001b[39m\u001b[38;5;132;01m{2}\u001b[39;00m\u001b[38;5;124m/sess\u001b[39m\u001b[38;5;132;01m{1:02d}\u001b[39;00m\u001b[38;5;124m_subj\u001b[39m\u001b[38;5;132;01m{2:02d}\u001b[39;00m\u001b[38;5;124m_EEG_\u001b[39m\u001b[38;5;132;01m{3}\u001b[39;00m\u001b[38;5;124m.mat\u001b[39m\u001b[38;5;124m\"\u001b[39m\u001b[38;5;241m.\u001b[39mformat(\n\u001b[1;32m    211\u001b[0m         Lee2019_URL, session, subject, \u001b[38;5;28mself\u001b[39m\u001b[38;5;241m.\u001b[39mcode_suffix\n\u001b[1;32m    212\u001b[0m     )\n\u001b[0;32m--> 213\u001b[0m     data_path \u001b[38;5;241m=\u001b[39m \u001b[43mdl\u001b[49m\u001b[38;5;241;43m.\u001b[39;49m\u001b[43mdata_dl\u001b[49m\u001b[43m(\u001b[49m\u001b[43murl\u001b[49m\u001b[43m,\u001b[49m\u001b[43m \u001b[49m\u001b[38;5;28;43mself\u001b[39;49m\u001b[38;5;241;43m.\u001b[39;49m\u001b[43mcode\u001b[49m\u001b[43m,\u001b[49m\u001b[43m \u001b[49m\u001b[43mpath\u001b[49m\u001b[43m,\u001b[49m\u001b[43m \u001b[49m\u001b[43mforce_update\u001b[49m\u001b[43m,\u001b[49m\u001b[43m \u001b[49m\u001b[43mverbose\u001b[49m\u001b[43m)\u001b[49m\n\u001b[1;32m    214\u001b[0m     subject_paths\u001b[38;5;241m.\u001b[39mappend(data_path)\n\u001b[1;32m    216\u001b[0m \u001b[38;5;28;01mreturn\u001b[39;00m subject_paths\n",
      "File \u001b[0;32m<decorator-gen-432>:12\u001b[0m, in \u001b[0;36mdata_dl\u001b[0;34m(url, sign, path, force_update, verbose)\u001b[0m\n",
      "File \u001b[0;32m/opt/pythonenvs/class_fall2023/lib/python3.8/site-packages/moabb/datasets/download.py:155\u001b[0m, in \u001b[0;36mdata_dl\u001b[0;34m(url, sign, path, force_update, verbose)\u001b[0m\n\u001b[1;32m    153\u001b[0m \u001b[38;5;28;01melse\u001b[39;00m:\n\u001b[1;32m    154\u001b[0m     known_hash \u001b[38;5;241m=\u001b[39m file_hash(\u001b[38;5;28mstr\u001b[39m(destination))\n\u001b[0;32m--> 155\u001b[0m dlpath \u001b[38;5;241m=\u001b[39m \u001b[43mretrieve\u001b[49m\u001b[43m(\u001b[49m\n\u001b[1;32m    156\u001b[0m \u001b[43m    \u001b[49m\u001b[43murl\u001b[49m\u001b[43m,\u001b[49m\n\u001b[1;32m    157\u001b[0m \u001b[43m    \u001b[49m\u001b[43mknown_hash\u001b[49m\u001b[43m,\u001b[49m\n\u001b[1;32m    158\u001b[0m \u001b[43m    \u001b[49m\u001b[43mfname\u001b[49m\u001b[38;5;241;43m=\u001b[39;49m\u001b[43mPath\u001b[49m\u001b[43m(\u001b[49m\u001b[43murl\u001b[49m\u001b[43m)\u001b[49m\u001b[38;5;241;43m.\u001b[39;49m\u001b[43mname\u001b[49m\u001b[43m,\u001b[49m\n\u001b[1;32m    159\u001b[0m \u001b[43m    \u001b[49m\u001b[43mpath\u001b[49m\u001b[38;5;241;43m=\u001b[39;49m\u001b[38;5;28;43mstr\u001b[39;49m\u001b[43m(\u001b[49m\u001b[43mdestination\u001b[49m\u001b[38;5;241;43m.\u001b[39;49m\u001b[43mparent\u001b[49m\u001b[43m)\u001b[49m\u001b[43m,\u001b[49m\n\u001b[1;32m    160\u001b[0m \u001b[43m    \u001b[49m\u001b[43mprogressbar\u001b[49m\u001b[38;5;241;43m=\u001b[39;49m\u001b[38;5;28;43;01mTrue\u001b[39;49;00m\u001b[43m,\u001b[49m\n\u001b[1;32m    161\u001b[0m \u001b[43m    \u001b[49m\u001b[43mdownloader\u001b[49m\u001b[38;5;241;43m=\u001b[39;49m\u001b[43mdownloader\u001b[49m\u001b[43m,\u001b[49m\n\u001b[1;32m    162\u001b[0m \u001b[43m\u001b[49m\u001b[43m)\u001b[49m\n\u001b[1;32m    163\u001b[0m \u001b[38;5;28;01mreturn\u001b[39;00m dlpath\n",
      "File \u001b[0;32m/opt/pythonenvs/class_fall2023/lib/python3.8/site-packages/pooch/core.py:239\u001b[0m, in \u001b[0;36mretrieve\u001b[0;34m(url, known_hash, fname, path, processor, downloader, progressbar)\u001b[0m\n\u001b[1;32m    236\u001b[0m \u001b[38;5;28;01mif\u001b[39;00m downloader \u001b[38;5;129;01mis\u001b[39;00m \u001b[38;5;28;01mNone\u001b[39;00m:\n\u001b[1;32m    237\u001b[0m     downloader \u001b[38;5;241m=\u001b[39m choose_downloader(url, progressbar\u001b[38;5;241m=\u001b[39mprogressbar)\n\u001b[0;32m--> 239\u001b[0m \u001b[43mstream_download\u001b[49m\u001b[43m(\u001b[49m\u001b[43murl\u001b[49m\u001b[43m,\u001b[49m\u001b[43m \u001b[49m\u001b[43mfull_path\u001b[49m\u001b[43m,\u001b[49m\u001b[43m \u001b[49m\u001b[43mknown_hash\u001b[49m\u001b[43m,\u001b[49m\u001b[43m \u001b[49m\u001b[43mdownloader\u001b[49m\u001b[43m,\u001b[49m\u001b[43m \u001b[49m\u001b[43mpooch\u001b[49m\u001b[38;5;241;43m=\u001b[39;49m\u001b[38;5;28;43;01mNone\u001b[39;49;00m\u001b[43m)\u001b[49m\n\u001b[1;32m    241\u001b[0m \u001b[38;5;28;01mif\u001b[39;00m known_hash \u001b[38;5;129;01mis\u001b[39;00m \u001b[38;5;28;01mNone\u001b[39;00m:\n\u001b[1;32m    242\u001b[0m     get_logger()\u001b[38;5;241m.\u001b[39minfo(\n\u001b[1;32m    243\u001b[0m         \u001b[38;5;124m\"\u001b[39m\u001b[38;5;124mSHA256 hash of downloaded file: \u001b[39m\u001b[38;5;132;01m%s\u001b[39;00m\u001b[38;5;130;01m\\n\u001b[39;00m\u001b[38;5;124m\"\u001b[39m\n\u001b[1;32m    244\u001b[0m         \u001b[38;5;124m\"\u001b[39m\u001b[38;5;124mUse this value as the \u001b[39m\u001b[38;5;124m'\u001b[39m\u001b[38;5;124mknown_hash\u001b[39m\u001b[38;5;124m'\u001b[39m\u001b[38;5;124m argument of \u001b[39m\u001b[38;5;124m'\u001b[39m\u001b[38;5;124mpooch.retrieve\u001b[39m\u001b[38;5;124m'\u001b[39m\u001b[38;5;124m\"\u001b[39m\n\u001b[0;32m   (...)\u001b[0m\n\u001b[1;32m    247\u001b[0m         file_hash(\u001b[38;5;28mstr\u001b[39m(full_path)),\n\u001b[1;32m    248\u001b[0m     )\n",
      "File \u001b[0;32m/opt/pythonenvs/class_fall2023/lib/python3.8/site-packages/pooch/core.py:807\u001b[0m, in \u001b[0;36mstream_download\u001b[0;34m(url, fname, known_hash, downloader, pooch, retry_if_failed)\u001b[0m\n\u001b[1;32m    803\u001b[0m \u001b[38;5;28;01mtry\u001b[39;00m:\n\u001b[1;32m    804\u001b[0m     \u001b[38;5;66;03m# Stream the file to a temporary so that we can safely check its\u001b[39;00m\n\u001b[1;32m    805\u001b[0m     \u001b[38;5;66;03m# hash before overwriting the original.\u001b[39;00m\n\u001b[1;32m    806\u001b[0m     \u001b[38;5;28;01mwith\u001b[39;00m temporary_file(path\u001b[38;5;241m=\u001b[39m\u001b[38;5;28mstr\u001b[39m(fname\u001b[38;5;241m.\u001b[39mparent)) \u001b[38;5;28;01mas\u001b[39;00m tmp:\n\u001b[0;32m--> 807\u001b[0m         \u001b[43mdownloader\u001b[49m\u001b[43m(\u001b[49m\u001b[43murl\u001b[49m\u001b[43m,\u001b[49m\u001b[43m \u001b[49m\u001b[43mtmp\u001b[49m\u001b[43m,\u001b[49m\u001b[43m \u001b[49m\u001b[43mpooch\u001b[49m\u001b[43m)\u001b[49m\n\u001b[1;32m    808\u001b[0m         hash_matches(tmp, known_hash, strict\u001b[38;5;241m=\u001b[39m\u001b[38;5;28;01mTrue\u001b[39;00m, source\u001b[38;5;241m=\u001b[39m\u001b[38;5;28mstr\u001b[39m(fname\u001b[38;5;241m.\u001b[39mname))\n\u001b[1;32m    809\u001b[0m         shutil\u001b[38;5;241m.\u001b[39mmove(tmp, \u001b[38;5;28mstr\u001b[39m(fname))\n",
      "File \u001b[0;32m/opt/pythonenvs/class_fall2023/lib/python3.8/site-packages/pooch/downloaders.py:340\u001b[0m, in \u001b[0;36mFTPDownloader.__call__\u001b[0;34m(self, url, output_file, pooch, check_only)\u001b[0m\n\u001b[1;32m    338\u001b[0m parsed_url \u001b[38;5;241m=\u001b[39m parse_url(url)\n\u001b[1;32m    339\u001b[0m ftp \u001b[38;5;241m=\u001b[39m ftplib\u001b[38;5;241m.\u001b[39mFTP(timeout\u001b[38;5;241m=\u001b[39m\u001b[38;5;28mself\u001b[39m\u001b[38;5;241m.\u001b[39mtimeout)\n\u001b[0;32m--> 340\u001b[0m \u001b[43mftp\u001b[49m\u001b[38;5;241;43m.\u001b[39;49m\u001b[43mconnect\u001b[49m\u001b[43m(\u001b[49m\u001b[43mhost\u001b[49m\u001b[38;5;241;43m=\u001b[39;49m\u001b[43mparsed_url\u001b[49m\u001b[43m[\u001b[49m\u001b[38;5;124;43m\"\u001b[39;49m\u001b[38;5;124;43mnetloc\u001b[39;49m\u001b[38;5;124;43m\"\u001b[39;49m\u001b[43m]\u001b[49m\u001b[43m,\u001b[49m\u001b[43m \u001b[49m\u001b[43mport\u001b[49m\u001b[38;5;241;43m=\u001b[39;49m\u001b[38;5;28;43mself\u001b[39;49m\u001b[38;5;241;43m.\u001b[39;49m\u001b[43mport\u001b[49m\u001b[43m)\u001b[49m\n\u001b[1;32m    342\u001b[0m \u001b[38;5;28;01mif\u001b[39;00m check_only:\n\u001b[1;32m    343\u001b[0m     directory, file_name \u001b[38;5;241m=\u001b[39m os\u001b[38;5;241m.\u001b[39mpath\u001b[38;5;241m.\u001b[39msplit(parsed_url[\u001b[38;5;124m\"\u001b[39m\u001b[38;5;124mpath\u001b[39m\u001b[38;5;124m\"\u001b[39m])\n",
      "File \u001b[0;32m/usr/lib/python3.8/ftplib.py:154\u001b[0m, in \u001b[0;36mFTP.connect\u001b[0;34m(self, host, port, timeout, source_address)\u001b[0m\n\u001b[1;32m    152\u001b[0m     \u001b[38;5;28mself\u001b[39m\u001b[38;5;241m.\u001b[39msource_address \u001b[38;5;241m=\u001b[39m source_address\n\u001b[1;32m    153\u001b[0m sys\u001b[38;5;241m.\u001b[39maudit(\u001b[38;5;124m\"\u001b[39m\u001b[38;5;124mftplib.connect\u001b[39m\u001b[38;5;124m\"\u001b[39m, \u001b[38;5;28mself\u001b[39m, \u001b[38;5;28mself\u001b[39m\u001b[38;5;241m.\u001b[39mhost, \u001b[38;5;28mself\u001b[39m\u001b[38;5;241m.\u001b[39mport)\n\u001b[0;32m--> 154\u001b[0m \u001b[38;5;28mself\u001b[39m\u001b[38;5;241m.\u001b[39msock \u001b[38;5;241m=\u001b[39m \u001b[43msocket\u001b[49m\u001b[38;5;241;43m.\u001b[39;49m\u001b[43mcreate_connection\u001b[49m\u001b[43m(\u001b[49m\u001b[43m(\u001b[49m\u001b[38;5;28;43mself\u001b[39;49m\u001b[38;5;241;43m.\u001b[39;49m\u001b[43mhost\u001b[49m\u001b[43m,\u001b[49m\u001b[43m \u001b[49m\u001b[38;5;28;43mself\u001b[39;49m\u001b[38;5;241;43m.\u001b[39;49m\u001b[43mport\u001b[49m\u001b[43m)\u001b[49m\u001b[43m,\u001b[49m\u001b[43m \u001b[49m\u001b[38;5;28;43mself\u001b[39;49m\u001b[38;5;241;43m.\u001b[39;49m\u001b[43mtimeout\u001b[49m\u001b[43m,\u001b[49m\n\u001b[1;32m    155\u001b[0m \u001b[43m                                     \u001b[49m\u001b[43msource_address\u001b[49m\u001b[38;5;241;43m=\u001b[39;49m\u001b[38;5;28;43mself\u001b[39;49m\u001b[38;5;241;43m.\u001b[39;49m\u001b[43msource_address\u001b[49m\u001b[43m)\u001b[49m\n\u001b[1;32m    156\u001b[0m \u001b[38;5;28mself\u001b[39m\u001b[38;5;241m.\u001b[39maf \u001b[38;5;241m=\u001b[39m \u001b[38;5;28mself\u001b[39m\u001b[38;5;241m.\u001b[39msock\u001b[38;5;241m.\u001b[39mfamily\n\u001b[1;32m    157\u001b[0m \u001b[38;5;28mself\u001b[39m\u001b[38;5;241m.\u001b[39mfile \u001b[38;5;241m=\u001b[39m \u001b[38;5;28mself\u001b[39m\u001b[38;5;241m.\u001b[39msock\u001b[38;5;241m.\u001b[39mmakefile(\u001b[38;5;124m'\u001b[39m\u001b[38;5;124mr\u001b[39m\u001b[38;5;124m'\u001b[39m, encoding\u001b[38;5;241m=\u001b[39m\u001b[38;5;28mself\u001b[39m\u001b[38;5;241m.\u001b[39mencoding)\n",
      "File \u001b[0;32m/usr/lib/python3.8/socket.py:808\u001b[0m, in \u001b[0;36mcreate_connection\u001b[0;34m(address, timeout, source_address)\u001b[0m\n\u001b[1;32m    806\u001b[0m \u001b[38;5;28;01mif\u001b[39;00m err \u001b[38;5;129;01mis\u001b[39;00m \u001b[38;5;129;01mnot\u001b[39;00m \u001b[38;5;28;01mNone\u001b[39;00m:\n\u001b[1;32m    807\u001b[0m     \u001b[38;5;28;01mtry\u001b[39;00m:\n\u001b[0;32m--> 808\u001b[0m         \u001b[38;5;28;01mraise\u001b[39;00m err\n\u001b[1;32m    809\u001b[0m     \u001b[38;5;28;01mfinally\u001b[39;00m:\n\u001b[1;32m    810\u001b[0m         \u001b[38;5;66;03m# Break explicitly a reference cycle\u001b[39;00m\n\u001b[1;32m    811\u001b[0m         err \u001b[38;5;241m=\u001b[39m \u001b[38;5;28;01mNone\u001b[39;00m\n",
      "File \u001b[0;32m/usr/lib/python3.8/socket.py:796\u001b[0m, in \u001b[0;36mcreate_connection\u001b[0;34m(address, timeout, source_address)\u001b[0m\n\u001b[1;32m    794\u001b[0m \u001b[38;5;28;01mif\u001b[39;00m source_address:\n\u001b[1;32m    795\u001b[0m     sock\u001b[38;5;241m.\u001b[39mbind(source_address)\n\u001b[0;32m--> 796\u001b[0m \u001b[43msock\u001b[49m\u001b[38;5;241;43m.\u001b[39;49m\u001b[43mconnect\u001b[49m\u001b[43m(\u001b[49m\u001b[43msa\u001b[49m\u001b[43m)\u001b[49m\n\u001b[1;32m    797\u001b[0m \u001b[38;5;66;03m# Break explicitly a reference cycle\u001b[39;00m\n\u001b[1;32m    798\u001b[0m err \u001b[38;5;241m=\u001b[39m \u001b[38;5;28;01mNone\u001b[39;00m\n",
      "\u001b[0;31mTimeoutError\u001b[0m: [Errno 110] Connection timed out"
     ]
    }
   ],
   "source": [
    "lee_config = EEGConfig(\n",
    "    dataset=Lee2019_SSVEP(),\n",
    "    num_channels=62,\n",
    "    sample_rate=1000,\n",
    "    sample_duration=4,\n",
    "    subject_range=(1, 2),\n",
    "    filter_range=(5, 95),\n",
    "    channel_range=(\"Fp1\", \"PO4\"),\n",
    ")\n",
    "\n",
    "combined_processor = CombinedProcessor(configs=[lee_config])"
   ]
  },
  {
   "cell_type": "code",
   "execution_count": 4,
   "metadata": {},
   "outputs": [],
   "source": [
    "train_set, val_set = random_split(combined_processor, [.8, .2])\n",
    "train_loader = DataLoader(train_set, batch_size=8, shuffle=True)\n",
    "val_loader = DataLoader(val_set, batch_size=8, shuffle=False)"
   ]
  },
  {
   "cell_type": "code",
   "execution_count": null,
   "metadata": {},
   "outputs": [],
   "source": [
    "model = train_VQVAE(\n",
    "    dl_train = train_loader,\n",
    "    dl_val = val_loader,\n",
    "    epochs = epochs,\n",
    "    train_bool = True,\n",
    "    eff_net_PATH = eff_net_PATH,\n",
    "    classes = [],\n",
    "    in_channels = lee_config.num_channels)"
   ]
  },
  {
   "cell_type": "code",
   "execution_count": 2,
   "metadata": {},
   "outputs": [
    {
     "name": "stdout",
     "output_type": "stream",
     "text": [
      "             time         Fp1         Fp2          F7          F3          Fz  \\\n",
      "0           0.000   42.400002   28.700001    2.900000   35.000000  156.100006   \n",
      "1           0.001   46.099998   40.099998    9.300000   39.799999  157.500000   \n",
      "2           0.002   43.000000   40.000000    9.500000   36.299999  153.899994   \n",
      "3           0.003   40.900002   35.000000    8.100000   35.599998  152.600006   \n",
      "4           0.004   41.700001   39.500000   10.600000   40.700001  153.899994   \n",
      "...           ...         ...         ...         ...         ...         ...   \n",
      "1560075  1560.075  387.700012  439.100006  235.500000  254.100006  252.600006   \n",
      "1560076  1560.076  382.899994  436.700012  228.199997  249.800003  250.300003   \n",
      "1560077  1560.077  380.100006  430.399994  218.800003  243.600006  245.000000   \n",
      "1560078  1560.078  394.399994  437.100006  234.399994  255.100006  257.299988   \n",
      "1560079  1560.079  405.200012  452.299988  241.000000  263.000000  268.200012   \n",
      "\n",
      "                 F4          F8         FC5         FC1  ...         AF3  \\\n",
      "0         46.900002  -14.900000   91.800003   79.000000  ...   55.700001   \n",
      "1         53.200001  -11.200000   95.400002   84.900002  ...   55.700001   \n",
      "2         52.500000  -11.000000   95.099998   84.000000  ...   51.299999   \n",
      "3         51.599998   -7.500000   95.199997   83.800003  ...   47.799999   \n",
      "4         53.099998   -6.100000   97.000000   86.400002  ...   51.500000   \n",
      "...             ...         ...         ...         ...  ...         ...   \n",
      "1560075  269.700012  236.399994  244.500000  257.200012  ...  341.799988   \n",
      "1560076  273.299988  239.199997  238.399994  259.399994  ...  337.399994   \n",
      "1560077  267.600006  236.199997  228.399994  254.100006  ...  333.100006   \n",
      "1560078  279.299988  241.500000  245.100006  263.899994  ...  346.399994   \n",
      "1560079  286.799988  251.500000  250.199997  272.000000  ...  358.899994   \n",
      "\n",
      "                AF4         AF8         PO3         PO4        EMG1  \\\n",
      "0         43.099998   -2.500000   32.799999   30.299999   75.199997   \n",
      "1         44.000000    0.200000   36.400002   35.099998   82.500000   \n",
      "2         41.700001    0.800000   33.299999   34.500000   94.300003   \n",
      "3         38.000000    0.700000   36.000000   36.200001  101.699997   \n",
      "4         43.400002    1.700000   41.599998   37.900002   96.300003   \n",
      "...             ...         ...         ...         ...         ...   \n",
      "1560075  244.199997  370.399994  193.500000  245.199997  -14.700000   \n",
      "1560076  245.600006  374.500000  199.399994  253.199997  -23.100000   \n",
      "1560077  239.100006  370.700012  202.199997  250.699997   65.500000   \n",
      "1560078  247.600006  376.799988  226.500000  270.200012  203.899994   \n",
      "1560079  263.299988  389.700012  217.100006  272.899994  231.699997   \n",
      "\n",
      "               EMG2         EMG3        EMG4  STI 014  \n",
      "0         54.000000   -77.199997 -117.000000      0.0  \n",
      "1         55.099998   -71.199997 -112.300003      0.0  \n",
      "2         68.699997   -63.599998 -101.800003      0.0  \n",
      "3         78.800003   -56.799999  -95.800003      0.0  \n",
      "4         72.199997   -64.199997 -105.099998      0.0  \n",
      "...             ...          ...         ...      ...  \n",
      "1560075  261.799988  2471.000000  607.700012      0.0  \n",
      "1560076  170.500000  2475.100098  651.200012      0.0  \n",
      "1560077  170.800003  2513.500000  678.200012      0.0  \n",
      "1560078  341.600006  2562.500000  703.299988      0.0  \n",
      "1560079  402.299988  2568.100098  719.099976      0.0  \n",
      "\n",
      "[1560080 rows x 68 columns]\n",
      "['Fp1', 'Fp2', 'F7', 'F3', 'Fz', 'F4', 'F8', 'FC5', 'FC1', 'FC2', 'FC6', 'T7', 'C3', 'Cz', 'C4', 'T8', 'TP9', 'CP5', 'CP1', 'CP2', 'CP6', 'TP10', 'P7', 'P3', 'Pz', 'P4', 'P8', 'PO9', 'O1', 'Oz', 'O2', 'PO10', 'FC3', 'FC4', 'C5', 'C1', 'C2', 'C6', 'CP3', 'CPz', 'CP4', 'P1', 'P2', 'POz', 'FT9', 'FTT9h', 'TTP7h', 'TP7', 'TPP9h', 'FT10', 'FTT10h', 'TPP8h', 'TP8', 'TPP10h', 'F9', 'F10', 'AF7', 'AF3', 'AF4', 'AF8', 'PO3', 'PO4', 'EMG1', 'EMG2', 'EMG3', 'EMG4', 'STI 014']\n",
      "1000.0\n",
      "67\n",
      "<Info | 8 non-empty values\n",
      " bads: []\n",
      " ch_names: Fp1, Fp2, F7, F3, Fz, F4, F8, FC5, FC1, FC2, FC6, T7, C3, Cz, ...\n",
      " chs: 62 EEG, 4 EMG, 1 Stimulus\n",
      " custom_ref_applied: False\n",
      " dig: 65 items (3 Cardinal, 62 EEG)\n",
      " highpass: 0.0 Hz\n",
      " lowpass: 500.0 Hz\n",
      " meas_date: unspecified\n",
      " nchan: 67\n",
      " projs: []\n",
      " sfreq: 1000.0 Hz\n",
      ">\n",
      "             time         Fp1         Fp2         F7          F3          Fz  \\\n",
      "0           0.000  -83.099998 -153.100006 -96.500000   10.100000  -68.800003   \n",
      "1           0.001  -83.900002 -157.899994 -96.599998    9.400000  -69.800003   \n",
      "2           0.002  -82.199997 -165.300003 -98.400002    8.900000  -69.400002   \n",
      "3           0.003  -84.000000 -171.399994 -98.099998    9.000000  -71.800003   \n",
      "4           0.004  -73.900002 -161.100006 -88.800003   14.400000  -65.099998   \n",
      "...           ...         ...         ...        ...         ...         ...   \n",
      "1297995  1297.995  314.899994  272.600006  55.099998  126.599998  156.500000   \n",
      "1297996  1297.996  323.200012  280.500000  60.299999  130.300003  160.399994   \n",
      "1297997  1297.997  335.899994  291.100006  81.599998  147.100006  174.899994   \n",
      "1297998  1297.998  327.899994  287.700012  74.500000  151.500000  173.399994   \n",
      "1297999  1297.999  312.700012  278.899994  38.799999  139.000000  159.500000   \n",
      "\n",
      "                 F4          F8         FC5         FC1  ...         AF3  \\\n",
      "0       -134.300003  -64.500000  -20.700001  -57.200001  ...  -82.500000   \n",
      "1       -133.800003  -62.099998  -21.900000  -57.700001  ...  -87.099998   \n",
      "2       -135.300003  -67.599998  -25.299999  -58.000000  ...  -84.400002   \n",
      "3       -136.600006  -66.099998  -27.000000  -58.099998  ...  -83.400002   \n",
      "4       -130.199997  -59.200001  -19.700001  -52.900002  ...  -77.599998   \n",
      "...             ...         ...         ...         ...  ...         ...   \n",
      "1297995  101.900002  164.399994  108.199997  125.500000  ...  163.300003   \n",
      "1297996  107.900002  175.500000  102.000000  128.199997  ...  165.600006   \n",
      "1297997  121.199997  185.399994  126.300003  146.899994  ...  181.699997   \n",
      "1297998  117.099998  180.399994  133.300003  143.899994  ...  178.600006   \n",
      "1297999  102.000000  169.000000  131.899994  131.000000  ...  164.899994   \n",
      "\n",
      "                AF4         AF8         PO3         PO4        EMG1  \\\n",
      "0         27.799999  -14.300000  -37.000000  -68.400002 -170.300003   \n",
      "1         25.400000  -14.500000  -40.099998  -68.699997 -159.800003   \n",
      "2         25.799999  -15.500000  -40.700001  -69.400002 -160.899994   \n",
      "3         20.200001  -18.600000  -42.299999  -68.500000 -161.199997   \n",
      "4         24.400000  -11.600000  -35.000000  -64.400002 -153.300003   \n",
      "...             ...         ...         ...         ...         ...   \n",
      "1297995  276.000000  309.899994   92.599998  113.699997  274.700012   \n",
      "1297996  283.500000  313.500000   94.800003  119.800003  343.500000   \n",
      "1297997  296.500000  328.100006  110.800003  134.800003  300.899994   \n",
      "1297998  293.500000  327.100006  112.900002  133.300003  233.399994   \n",
      "1297999  281.399994  316.799988   96.000000  122.000000  146.100006   \n",
      "\n",
      "               EMG2        EMG3        EMG4  STI 014  \n",
      "0       -166.000000  -99.300003  -95.800003      0.0  \n",
      "1       -158.699997  -91.099998  -90.300003      0.0  \n",
      "2       -156.699997  -87.699997  -85.099998      0.0  \n",
      "3       -156.399994  -91.000000  -88.500000      0.0  \n",
      "4       -146.600006  -85.699997  -83.000000      0.0  \n",
      "...             ...         ...         ...      ...  \n",
      "1297995  297.399994  310.500000  233.199997      0.0  \n",
      "1297996  356.200012  322.000000  244.800003      0.0  \n",
      "1297997  417.399994  350.000000  239.899994      0.0  \n",
      "1297998  317.200012  377.799988  207.300003      0.0  \n",
      "1297999  182.300003  364.700012  181.600006      0.0  \n",
      "\n",
      "[1298000 rows x 68 columns]\n",
      "['Fp1', 'Fp2', 'F7', 'F3', 'Fz', 'F4', 'F8', 'FC5', 'FC1', 'FC2', 'FC6', 'T7', 'C3', 'Cz', 'C4', 'T8', 'TP9', 'CP5', 'CP1', 'CP2', 'CP6', 'TP10', 'P7', 'P3', 'Pz', 'P4', 'P8', 'PO9', 'O1', 'Oz', 'O2', 'PO10', 'FC3', 'FC4', 'C5', 'C1', 'C2', 'C6', 'CP3', 'CPz', 'CP4', 'P1', 'P2', 'POz', 'FT9', 'FTT9h', 'TTP7h', 'TP7', 'TPP9h', 'FT10', 'FTT10h', 'TPP8h', 'TP8', 'TPP10h', 'F9', 'F10', 'AF7', 'AF3', 'AF4', 'AF8', 'PO3', 'PO4', 'EMG1', 'EMG2', 'EMG3', 'EMG4', 'STI 014']\n",
      "1000.0\n",
      "67\n",
      "<Info | 8 non-empty values\n",
      " bads: []\n",
      " ch_names: Fp1, Fp2, F7, F3, Fz, F4, F8, FC5, FC1, FC2, FC6, T7, C3, Cz, ...\n",
      " chs: 62 EEG, 4 EMG, 1 Stimulus\n",
      " custom_ref_applied: False\n",
      " dig: 65 items (3 Cardinal, 62 EEG)\n",
      " highpass: 0.0 Hz\n",
      " lowpass: 500.0 Hz\n",
      " meas_date: unspecified\n",
      " nchan: 67\n",
      " projs: []\n",
      " sfreq: 1000.0 Hz\n",
      ">\n"
     ]
    }
   ],
   "source": [
    "test_set = Lee2019_SSVEP()\n",
    "subjects_data = test_set.get_data(subjects=[1])\n",
    "for subject, data in subjects_data.items():\n",
    "    for run in data.items():\n",
    "        for trial in run[1].items():\n",
    "            hello = pd.DataFrame(run[1][trial[0]].to_data_frame())\n",
    "            print(hello)\n",
    "\n",
    "            print(run[1][trial[0]].info['ch_names'])  # List of channel names\n",
    "            print(run[1][trial[0]].info['sfreq'])  # Sampling frequency\n",
    "            print(run[1][trial[0]].info['nchan'])  # Number of channels\n",
    "\n",
    "            # View all metadata\n",
    "            print(run[1][trial[0]].info)\n"
   ]
  }
 ],
 "metadata": {
  "kernelspec": {
   "display_name": "Python 3 (ipykernel)",
   "language": "python",
   "name": "python3"
  },
  "language_info": {
   "codemirror_mode": {
    "name": "ipython",
    "version": 3
   },
   "file_extension": ".py",
   "mimetype": "text/x-python",
   "name": "python",
   "nbconvert_exporter": "python",
   "pygments_lexer": "ipython3",
   "version": "3.8.10"
  }
 },
 "nbformat": 4,
 "nbformat_minor": 4
}
