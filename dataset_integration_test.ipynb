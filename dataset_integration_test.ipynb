{
 "cells": [
  {
   "cell_type": "code",
   "execution_count": null,
   "metadata": {},
   "outputs": [],
   "source": [
    "from eeg_config import EEGConfig\n",
    "from combined_processor import CombinedProcessor\n",
    "\n",
    "from torch.utils.data import DataLoader, random_split\n",
    "from moabb.datasets import BI2015b, Lee2019_SSVEP"
   ]
  },
  {
   "cell_type": "code",
   "execution_count": null,
   "metadata": {},
   "outputs": [],
   "source": [
    "# Create the configs for our processors first.\n",
    "config1 = EEGConfig(\n",
    "    dataset=BI2015b(),\n",
    "    num_channels=32,\n",
    "    subject_range=(1, 5),\n",
    "    filter_range=(5, 95),\n",
    "    channel_range=(\"Fp1\", \"PO10\"),\n",
    "    debug=True\n",
    ")\n",
    "\n",
    "config2 = EEGConfig(\n",
    "    dataset=Lee2019_SSVEP(),\n",
    "    num_channels=64,\n",
    "    subject_range=(1, 2),\n",
    "    filter_range=(5, 95),\n",
    "    channel_range=(\"Fp1\", \"EMG2\"),\n",
    "    debug=True\n",
    ")"
   ]
  },
  {
   "cell_type": "code",
   "execution_count": null,
   "metadata": {},
   "outputs": [],
   "source": [
    "# Instantiate the CombinedProcessor with a list of configs\n",
    "combined_processor = CombinedProcessor(configs=[config2], debug=True)"
   ]
  },
  {
   "cell_type": "code",
   "execution_count": null,
   "metadata": {},
   "outputs": [],
   "source": [
    "# Split the dataset using random_split\n",
    "train_set, test_set = random_split(combined_processor, [.8, .2])"
   ]
  },
  {
   "cell_type": "code",
   "execution_count": null,
   "metadata": {},
   "outputs": [],
   "source": [
    "# Use DataLoader to handle batching and iteration\n",
    "train_loader = DataLoader(train_set, batch_size=8, shuffle=False)\n",
    "test_loader = DataLoader(test_set, batch_size=8, shuffle=False)"
   ]
  },
  {
   "cell_type": "code",
   "execution_count": null,
   "metadata": {},
   "outputs": [],
   "source": [
    "# Iterate through the Training Dataloader\n",
    "for batch_idx, batch_data in enumerate(train_loader):\n",
    "    print(f\"Batch {batch_idx + 1}:\")\n",
    "    print(batch_data.shape)\n"
   ]
  },
  {
   "cell_type": "code",
   "execution_count": null,
   "metadata": {},
   "outputs": [],
   "source": [
    "# Iterate through the Testing Dataloader\n",
    "for batch_idx, batch_data in enumerate(test_loader):\n",
    "    print(f\"Batch {batch_idx + 1}:\")\n",
    "    print(batch_data.shape)"
   ]
  }
 ],
 "metadata": {
  "kernelspec": {
   "display_name": "venv",
   "language": "python",
   "name": "python3"
  },
  "language_info": {
   "codemirror_mode": {
    "name": "ipython",
    "version": 3
   },
   "file_extension": ".py",
   "mimetype": "text/x-python",
   "name": "python",
   "nbconvert_exporter": "python",
   "pygments_lexer": "ipython3",
   "version": "3.12.7"
  }
 },
 "nbformat": 4,
 "nbformat_minor": 2
}
